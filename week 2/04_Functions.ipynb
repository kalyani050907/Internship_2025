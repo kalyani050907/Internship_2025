{
 "cells": [
  {
   "cell_type": "code",
   "execution_count": 1,
   "id": "9fa545e6-f90a-4be8-8375-64fd3c04f837",
   "metadata": {},
   "outputs": [
    {
     "name": "stdout",
     "output_type": "stream",
     "text": [
      "Hello\n",
      "Ok\n",
      "Bye!!!\n"
     ]
    }
   ],
   "source": [
    "print(\"Hello\")\n",
    "print(\"Ok\")\n",
    "print(\"Bye!!!\")"
   ]
  },
  {
   "cell_type": "code",
   "execution_count": 2,
   "id": "5eff6542-0c70-4b29-b275-9c274ee7849c",
   "metadata": {},
   "outputs": [],
   "source": [
    "def show():    # function definition\n",
    "    print(\"Hello\")\n",
    "    print(\"Ok\")\n",
    "    print(\"Bye!!!\")"
   ]
  },
  {
   "cell_type": "code",
   "execution_count": 3,
   "id": "462b809c-be30-4c7f-acf3-5a12a9462002",
   "metadata": {},
   "outputs": [
    {
     "name": "stdout",
     "output_type": "stream",
     "text": [
      "Hello\n",
      "Ok\n",
      "Bye!!!\n"
     ]
    }
   ],
   "source": [
    "show()      # function call"
   ]
  },
  {
   "cell_type": "code",
   "execution_count": 4,
   "id": "feaa63d0-2b59-4f57-9cb2-de350748822a",
   "metadata": {},
   "outputs": [
    {
     "name": "stdout",
     "output_type": "stream",
     "text": [
      "Hello\n",
      "Ok\n",
      "Bye!!!\n",
      "Hello\n",
      "Ok\n",
      "Bye!!!\n",
      "Hello\n",
      "Ok\n",
      "Bye!!!\n"
     ]
    }
   ],
   "source": [
    "show()\n",
    "show()\n",
    "show()"
   ]
  },
  {
   "cell_type": "code",
   "execution_count": 5,
   "id": "72a97dda-491b-41b9-adf2-7166384d6607",
   "metadata": {},
   "outputs": [],
   "source": [
    "# Parameterized function\n",
    "\n",
    "def sq(num):\n",
    "    res = num * num\n",
    "    print(res)"
   ]
  },
  {
   "cell_type": "code",
   "execution_count": 6,
   "id": "4936f742-d655-4cbf-9a0d-ea1370bf3f89",
   "metadata": {},
   "outputs": [
    {
     "name": "stdout",
     "output_type": "stream",
     "text": [
      "144\n"
     ]
    }
   ],
   "source": [
    "sq(12)"
   ]
  },
  {
   "cell_type": "code",
   "execution_count": 7,
   "id": "7c2e7fd0-d187-4934-a6cf-4bbe02dd000e",
   "metadata": {},
   "outputs": [],
   "source": [
    "# Find out largest between 2 numbers\n",
    "\n",
    "def largest(a ,b):\n",
    "    if a>b:\n",
    "        print(\"largest is\",a)\n",
    "    elif a==b:\n",
    "        print(\"both are equal\")\n",
    "    else:\n",
    "        print(\"largest is\",b)"
   ]
  },
  {
   "cell_type": "code",
   "execution_count": 8,
   "id": "7e0c1d26-b761-44eb-8604-151a5cba0bf2",
   "metadata": {},
   "outputs": [
    {
     "name": "stdout",
     "output_type": "stream",
     "text": [
      "largest is 10\n"
     ]
    }
   ],
   "source": [
    "largest(10,3)"
   ]
  },
  {
   "cell_type": "code",
   "execution_count": 17,
   "id": "7579772e-0db2-49ee-a459-eb3857971082",
   "metadata": {},
   "outputs": [],
   "source": [
    "# Function to print 'name'....'n' times (2 para)\n",
    "\n",
    "def times(num , name):\n",
    "    for num in range(num):\n",
    "        print(name)"
   ]
  },
  {
   "cell_type": "code",
   "execution_count": 18,
   "id": "2a9b615f-a9b5-4ded-8dcd-10307ef1dfb7",
   "metadata": {},
   "outputs": [
    {
     "name": "stdout",
     "output_type": "stream",
     "text": [
      "raj\n",
      "raj\n",
      "raj\n",
      "raj\n"
     ]
    }
   ],
   "source": [
    "times(4,\"raj\")"
   ]
  },
  {
   "cell_type": "code",
   "execution_count": 19,
   "id": "00cbdea5-aeb1-473a-ac58-1f8008b19471",
   "metadata": {},
   "outputs": [],
   "source": [
    "def rep(num , name):\n",
    "    for i in range(num):\n",
    "        print(name)"
   ]
  },
  {
   "cell_type": "code",
   "execution_count": 20,
   "id": "d3c2f737-1782-4c53-ac67-98c34f6efc70",
   "metadata": {},
   "outputs": [
    {
     "name": "stdout",
     "output_type": "stream",
     "text": [
      "Mumbai\n",
      "Mumbai\n",
      "Mumbai\n",
      "Mumbai\n",
      "Mumbai\n"
     ]
    }
   ],
   "source": [
    "rep(5,\"Mumbai\")"
   ]
  },
  {
   "cell_type": "code",
   "execution_count": 24,
   "id": "66d1197c-14c4-48bc-98ea-13d5cd09412c",
   "metadata": {},
   "outputs": [],
   "source": [
    "# function to find factorial\n",
    "\n",
    "def factorial(n):\n",
    "    result = 1\n",
    "    for i in range(1, n + 1):\n",
    "        result *= i\n",
    "    print(result)"
   ]
  },
  {
   "cell_type": "code",
   "execution_count": 25,
   "id": "7de77831-2831-48fd-a0f8-697d1af36eb2",
   "metadata": {},
   "outputs": [
    {
     "name": "stdout",
     "output_type": "stream",
     "text": [
      "120\n"
     ]
    }
   ],
   "source": [
    "factorial(5)"
   ]
  },
  {
   "cell_type": "code",
   "execution_count": 26,
   "id": "f5539aaa-4513-4c0c-97ea-7bdf54e1fd71",
   "metadata": {},
   "outputs": [],
   "source": [
    "def sq(num):\n",
    "    res = num * num\n",
    "    return res"
   ]
  },
  {
   "cell_type": "code",
   "execution_count": 27,
   "id": "70e9fbd0-3b18-4371-b42e-ca30d1be19d6",
   "metadata": {},
   "outputs": [
    {
     "data": {
      "text/plain": [
       "64"
      ]
     },
     "execution_count": 27,
     "metadata": {},
     "output_type": "execute_result"
    }
   ],
   "source": [
    "sq(8)"
   ]
  },
  {
   "cell_type": "code",
   "execution_count": 31,
   "id": "c9d3f079-a9fe-4e8b-8396-6055897d875d",
   "metadata": {},
   "outputs": [],
   "source": [
    "def add1(a , b):\n",
    "    print(a + b)"
   ]
  },
  {
   "cell_type": "code",
   "execution_count": 32,
   "id": "f6f5e6f1-abb0-4945-8eb7-95b06b8dfd10",
   "metadata": {},
   "outputs": [
    {
     "name": "stdout",
     "output_type": "stream",
     "text": [
      "69\n"
     ]
    }
   ],
   "source": [
    "add1(2,67)"
   ]
  },
  {
   "cell_type": "code",
   "execution_count": 33,
   "id": "a8fbc7a0-7ea7-471b-8124-68e6242a2064",
   "metadata": {},
   "outputs": [
    {
     "name": "stdout",
     "output_type": "stream",
     "text": [
      "53\n"
     ]
    }
   ],
   "source": [
    "i = add1(50 , 3)"
   ]
  },
  {
   "cell_type": "code",
   "execution_count": 34,
   "id": "fd5d4986-5d9a-43c2-a55e-28ae2fd372b8",
   "metadata": {},
   "outputs": [
    {
     "name": "stdout",
     "output_type": "stream",
     "text": [
      "None\n"
     ]
    }
   ],
   "source": [
    "print(i)"
   ]
  },
  {
   "cell_type": "code",
   "execution_count": 35,
   "id": "347e2f21-fb1c-453b-a883-a96c262c33b6",
   "metadata": {},
   "outputs": [],
   "source": [
    "def add2(a , b):\n",
    "    return(a + b)"
   ]
  },
  {
   "cell_type": "code",
   "execution_count": 40,
   "id": "4b74fa21-b334-46b4-94fd-b52ce9dd48ce",
   "metadata": {},
   "outputs": [
    {
     "data": {
      "text/plain": [
       "87"
      ]
     },
     "execution_count": 40,
     "metadata": {},
     "output_type": "execute_result"
    }
   ],
   "source": [
    "add2(2,85)"
   ]
  },
  {
   "cell_type": "code",
   "execution_count": 41,
   "id": "d656ad50-2116-44ad-9d44-cfe062d21253",
   "metadata": {},
   "outputs": [],
   "source": [
    "def add2(a , b):\n",
    "    return a + b"
   ]
  },
  {
   "cell_type": "code",
   "execution_count": 42,
   "id": "1cc135c0-4942-4636-8532-ebd63cc56d50",
   "metadata": {},
   "outputs": [],
   "source": [
    "i = add2(3,4)"
   ]
  },
  {
   "cell_type": "code",
   "execution_count": 44,
   "id": "f2c885c4-938a-4864-b0b3-af00bfb90550",
   "metadata": {},
   "outputs": [
    {
     "name": "stdout",
     "output_type": "stream",
     "text": [
      "7\n"
     ]
    }
   ],
   "source": [
    "print(i)"
   ]
  },
  {
   "cell_type": "code",
   "execution_count": 45,
   "id": "afd4c4f2-98c9-46b9-bdc6-8d8527ca1735",
   "metadata": {},
   "outputs": [
    {
     "data": {
      "text/plain": [
       "11"
      ]
     },
     "execution_count": 45,
     "metadata": {},
     "output_type": "execute_result"
    }
   ],
   "source": [
    "add2 (3 ,4) + 4"
   ]
  },
  {
   "cell_type": "code",
   "execution_count": 49,
   "id": "56877b59-11e8-4864-88a2-4f5e11a22584",
   "metadata": {},
   "outputs": [],
   "source": [
    "def cal(a):\n",
    "    sq = a * a\n",
    "    cu = a **3\n",
    "    return sq , cu"
   ]
  },
  {
   "cell_type": "code",
   "execution_count": 50,
   "id": "4e98a1e5-fbff-4fde-a5d5-523aed3edaba",
   "metadata": {},
   "outputs": [
    {
     "data": {
      "text/plain": [
       "(25, 125)"
      ]
     },
     "execution_count": 50,
     "metadata": {},
     "output_type": "execute_result"
    }
   ],
   "source": [
    "cal(5)"
   ]
  },
  {
   "cell_type": "code",
   "execution_count": 46,
   "id": "104dcc69-e7c7-4b94-a616-53a7da6498e8",
   "metadata": {},
   "outputs": [],
   "source": [
    "# function for addition of 3 numbers\n",
    "\n",
    "def add3(a , b , c):\n",
    "    return a+b+c"
   ]
  },
  {
   "cell_type": "code",
   "execution_count": 47,
   "id": "84ff5cab-931c-4178-8b11-7be7921839d5",
   "metadata": {},
   "outputs": [
    {
     "data": {
      "text/plain": [
       "60"
      ]
     },
     "execution_count": 47,
     "metadata": {},
     "output_type": "execute_result"
    }
   ],
   "source": [
    "add3(10 , 20 , 30)"
   ]
  },
  {
   "cell_type": "code",
   "execution_count": 51,
   "id": "95eaafdb-479a-4dba-86a3-459aadc030db",
   "metadata": {},
   "outputs": [],
   "source": [
    "# default parameter\n",
    "\n",
    "def add3(a = 10, b = 20, c = 30):\n",
    "    return a+b+c"
   ]
  },
  {
   "cell_type": "code",
   "execution_count": 52,
   "id": "92649647-78e2-4e21-b378-3406429d79d9",
   "metadata": {},
   "outputs": [
    {
     "data": {
      "text/plain": [
       "53"
      ]
     },
     "execution_count": 52,
     "metadata": {},
     "output_type": "execute_result"
    }
   ],
   "source": [
    "add3(3)"
   ]
  },
  {
   "cell_type": "code",
   "execution_count": 54,
   "id": "b26c96ab-d1bf-49b8-97fe-7e0d8b4b2bc1",
   "metadata": {},
   "outputs": [
    {
     "data": {
      "text/plain": [
       "34"
      ]
     },
     "execution_count": 54,
     "metadata": {},
     "output_type": "execute_result"
    }
   ],
   "source": [
    "add3(3 , 1)"
   ]
  },
  {
   "cell_type": "code",
   "execution_count": 55,
   "id": "96e3d5af-c263-4e65-8ddc-d5052e240279",
   "metadata": {},
   "outputs": [
    {
     "data": {
      "text/plain": [
       "41"
      ]
     },
     "execution_count": 55,
     "metadata": {},
     "output_type": "execute_result"
    }
   ],
   "source": [
    "add3(b = 1)"
   ]
  },
  {
   "cell_type": "code",
   "execution_count": 65,
   "id": "6dc4b48a-5452-45c9-9302-9aec2cd7f4b0",
   "metadata": {},
   "outputs": [],
   "source": [
    "def add3(a , b = 1, c = 5):   \n",
    "    return a+b+c"
   ]
  },
  {
   "cell_type": "code",
   "execution_count": 66,
   "id": "badd0b01-86bc-4914-8970-736fb0ec641a",
   "metadata": {},
   "outputs": [
    {
     "data": {
      "text/plain": [
       "26"
      ]
     },
     "execution_count": 66,
     "metadata": {},
     "output_type": "execute_result"
    }
   ],
   "source": [
    "add3(20 )"
   ]
  },
  {
   "cell_type": "code",
   "execution_count": 67,
   "id": "86aaad7b-cfac-4783-92ae-0e9a0eba764f",
   "metadata": {},
   "outputs": [],
   "source": [
    "# Variable length arguments\n",
    "\n",
    "def ini(*args):\n",
    "    return args"
   ]
  },
  {
   "cell_type": "code",
   "execution_count": 68,
   "id": "01b17592-476f-431f-8bd4-018db59f68cf",
   "metadata": {},
   "outputs": [
    {
     "data": {
      "text/plain": [
       "(3, 5, 6, 7, 88)"
      ]
     },
     "execution_count": 68,
     "metadata": {},
     "output_type": "execute_result"
    }
   ],
   "source": [
    "ini(3 , 5 , 6 , 7 , 88)"
   ]
  },
  {
   "cell_type": "code",
   "execution_count": 74,
   "id": "cc44a32b-6393-46ee-8c66-8a8f9a66d13d",
   "metadata": {},
   "outputs": [],
   "source": [
    "# Pass any number of arguments and return the addition\n",
    "\n",
    "def add(*args):\n",
    "    add = 0\n",
    "    for i in args:\n",
    "        add = add + i\n",
    "    return add    "
   ]
  },
  {
   "cell_type": "code",
   "execution_count": 75,
   "id": "df6d6d77-ff32-4bf5-9182-a077cd08c0c0",
   "metadata": {},
   "outputs": [
    {
     "data": {
      "text/plain": [
       "25"
      ]
     },
     "execution_count": 75,
     "metadata": {},
     "output_type": "execute_result"
    }
   ],
   "source": [
    "add(12 , 6 ,7)"
   ]
  },
  {
   "cell_type": "code",
   "execution_count": 76,
   "id": "cd0c47a3-d5f9-4e23-a4b7-1d2f968b4a7b",
   "metadata": {},
   "outputs": [],
   "source": [
    "# lambda function"
   ]
  },
  {
   "cell_type": "code",
   "execution_count": 77,
   "id": "3f71baf1-8b38-47da-9c2b-3466f70f7d9e",
   "metadata": {},
   "outputs": [],
   "source": [
    "squ = lambda a: a*a"
   ]
  },
  {
   "cell_type": "code",
   "execution_count": 78,
   "id": "c642af49-e1db-407d-a15e-88802b027a91",
   "metadata": {},
   "outputs": [
    {
     "data": {
      "text/plain": [
       "9"
      ]
     },
     "execution_count": 78,
     "metadata": {},
     "output_type": "execute_result"
    }
   ],
   "source": [
    "squ(3)"
   ]
  },
  {
   "cell_type": "code",
   "execution_count": 81,
   "id": "2beac08d-5410-48f0-b2e1-995b14985a2d",
   "metadata": {},
   "outputs": [],
   "source": [
    "## addition of 2 numbers using lambda function\n",
    "\n",
    "add = lambda a , b: a+b"
   ]
  },
  {
   "cell_type": "code",
   "execution_count": 82,
   "id": "2ddfce2b-a893-4075-a500-e0746cdeaa37",
   "metadata": {},
   "outputs": [
    {
     "data": {
      "text/plain": [
       "9"
      ]
     },
     "execution_count": 82,
     "metadata": {},
     "output_type": "execute_result"
    }
   ],
   "source": [
    "add(5 , 4)"
   ]
  },
  {
   "cell_type": "code",
   "execution_count": 83,
   "id": "3dd51c4b-0364-4caf-a1de-57fbf20b2833",
   "metadata": {},
   "outputs": [],
   "source": [
    "# filter"
   ]
  },
  {
   "cell_type": "code",
   "execution_count": 84,
   "id": "a89cc388-82df-41b1-aca2-0a26fc18f126",
   "metadata": {},
   "outputs": [],
   "source": [
    "l = [34 , 56, 77, 11, 23, 40]"
   ]
  },
  {
   "cell_type": "code",
   "execution_count": 85,
   "id": "7382fce0-e7c0-430a-89d8-df60ef3160d0",
   "metadata": {},
   "outputs": [],
   "source": [
    "nl = filter(lambda x : x > 40, l)"
   ]
  },
  {
   "cell_type": "code",
   "execution_count": 86,
   "id": "f45bf387-e7ef-4ec8-8b60-aebd205bae45",
   "metadata": {},
   "outputs": [
    {
     "data": {
      "text/plain": [
       "[56, 77]"
      ]
     },
     "execution_count": 86,
     "metadata": {},
     "output_type": "execute_result"
    }
   ],
   "source": [
    "list(nl)"
   ]
  },
  {
   "cell_type": "code",
   "execution_count": 87,
   "id": "ba9f02bb-16af-4a27-8c9e-059dcd838efb",
   "metadata": {},
   "outputs": [],
   "source": [
    "# map"
   ]
  },
  {
   "cell_type": "code",
   "execution_count": 92,
   "id": "43e3cbea-5277-4653-b8de-35bc5e64295a",
   "metadata": {},
   "outputs": [],
   "source": [
    "nl1 = map(lambda x : x * x, l)"
   ]
  },
  {
   "cell_type": "code",
   "execution_count": 93,
   "id": "24bc5658-e5c9-4db2-be05-b280aed01717",
   "metadata": {},
   "outputs": [
    {
     "data": {
      "text/plain": [
       "[1156, 3136, 5929, 121, 529, 1600]"
      ]
     },
     "execution_count": 93,
     "metadata": {},
     "output_type": "execute_result"
    }
   ],
   "source": [
    "list(nl1)"
   ]
  },
  {
   "cell_type": "code",
   "execution_count": 95,
   "id": "ac011f83-5e10-49db-835e-6b0b6c683882",
   "metadata": {},
   "outputs": [
    {
     "data": {
      "text/plain": [
       "[False, True, True, False, False, False]"
      ]
     },
     "execution_count": 95,
     "metadata": {},
     "output_type": "execute_result"
    }
   ],
   "source": [
    "nl = map(lambda x : x > 40, l)\n",
    "list(nl)"
   ]
  },
  {
   "cell_type": "markdown",
   "id": "5403e0fc-554a-446e-bc33-f7c2828db2ca",
   "metadata": {},
   "source": [
    "#### 01_write a python program to find HCF or GCD"
   ]
  },
  {
   "cell_type": "code",
   "execution_count": 1,
   "id": "ab54ec52-ebca-4f0c-8fb6-f91dceaef0f7",
   "metadata": {},
   "outputs": [
    {
     "name": "stdout",
     "output_type": "stream",
     "text": [
      "The HCF/GCD of 36 and 60 is: 12\n"
     ]
    }
   ],
   "source": [
    "import math\n",
    "\n",
    "a = 36\n",
    "b = 60\n",
    "\n",
    "result = math.gcd(a, b)\n",
    "\n",
    "print(\"The HCF/GCD of\", a, \"and\", b, \"is:\", result)"
   ]
  },
  {
   "cell_type": "code",
   "execution_count": null,
   "id": "f76a3c67-8994-4d67-ad39-483f1d285c7d",
   "metadata": {},
   "outputs": [],
   "source": []
  }
 ],
 "metadata": {
  "kernelspec": {
   "display_name": "Python 3 (ipykernel)",
   "language": "python",
   "name": "python3"
  },
  "language_info": {
   "codemirror_mode": {
    "name": "ipython",
    "version": 3
   },
   "file_extension": ".py",
   "mimetype": "text/x-python",
   "name": "python",
   "nbconvert_exporter": "python",
   "pygments_lexer": "ipython3",
   "version": "3.12.7"
  }
 },
 "nbformat": 4,
 "nbformat_minor": 5
}
