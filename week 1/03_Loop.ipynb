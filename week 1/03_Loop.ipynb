{
 "cells": [
  {
   "cell_type": "code",
   "execution_count": null,
   "id": "1ba0dabc-317c-4b2f-8033-3f60761de5a3",
   "metadata": {},
   "outputs": [],
   "source": [
    "count = 0\n",
    "while count < 5:\n",
    "    print(\"Pune\")\n",
    "    count +=1"
   ]
  },
  {
   "cell_type": "code",
   "execution_count": null,
   "id": "97fedbd8-6e66-4955-996e-9511679ab0df",
   "metadata": {},
   "outputs": [],
   "source": [
    "# print the numbers from 5 to 15\n",
    "\n",
    "count = 5\n",
    "while count < 16:\n",
    "    print(count , end = ' ')\n",
    "    count +=1"
   ]
  },
  {
   "cell_type": "code",
   "execution_count": null,
   "id": "e8228ec2-929b-45f0-bf1a-657a7e3626b2",
   "metadata": {},
   "outputs": [],
   "source": [
    "count"
   ]
  },
  {
   "cell_type": "code",
   "execution_count": null,
   "id": "163afaf5-65d9-483f-afa2-b4a0c0ffd753",
   "metadata": {},
   "outputs": [],
   "source": [
    "# Find the addition of 1 to 10 numbers\n",
    "\n",
    "count = 1\n",
    "sum = 0\n",
    "while count <= 10:\n",
    "    sum += count\n",
    "    count += 1\n",
    "print(\"Sum:\", sum)\n"
   ]
  },
  {
   "cell_type": "code",
   "execution_count": null,
   "id": "7583dcd4-f806-4d95-b70a-d44adb786aa3",
   "metadata": {},
   "outputs": [],
   "source": [
    "# find the add\n",
    "\n",
    "count = 1\n",
    "add = 0\n",
    "\n",
    "while count <= 20:\n",
    "    add = add + count\n",
    "    count +=2\n",
    "    print(add)"
   ]
  },
  {
   "cell_type": "code",
   "execution_count": null,
   "id": "10e1c4bd-6abc-4de2-b0d6-3c7cf704a18d",
   "metadata": {},
   "outputs": [],
   "source": [
    "# find addition of 1 to 20 odd numbers\n",
    "\n",
    "count = 1\n",
    "add = 0\n",
    "\n",
    "while count <= 20:\n",
    "    add = add + count\n",
    "    count +=2\n",
    "print(add)"
   ]
  },
  {
   "cell_type": "code",
   "execution_count": null,
   "id": "c7a21115-18c3-4878-a118-038a3a819346",
   "metadata": {},
   "outputs": [],
   "source": [
    "\"\"\"\n",
    "while True:\n",
    "print(\"ok\")\n",
    "\n",
    "\"\"\""
   ]
  },
  {
   "cell_type": "code",
   "execution_count": null,
   "id": "353b458e-f165-4077-9fc8-e9735f708c22",
   "metadata": {},
   "outputs": [],
   "source": [
    "# Program to calculate the factorial of 5 using a while loop\n",
    "\n",
    "num = 5\n",
    "factorial = 1\n",
    "count = 1\n",
    "\n",
    "while count <= num:\n",
    "    factorial *= count\n",
    "    count += 1\n",
    "\n",
    "print(\"Factorial of\", num, \"is\", factorial)\n"
   ]
  },
  {
   "cell_type": "code",
   "execution_count": 1,
   "id": "9956707f-7fda-4c2e-8913-d22855dd8bc9",
   "metadata": {},
   "outputs": [
    {
     "data": {
      "text/plain": [
       "5"
      ]
     },
     "execution_count": 1,
     "metadata": {},
     "output_type": "execute_result"
    }
   ],
   "source": [
    "12345 % 10"
   ]
  },
  {
   "cell_type": "code",
   "execution_count": 3,
   "id": "c7830fdc-4538-45ca-bb50-44fe6d381683",
   "metadata": {},
   "outputs": [
    {
     "data": {
      "text/plain": [
       "1234"
      ]
     },
     "execution_count": 3,
     "metadata": {},
     "output_type": "execute_result"
    }
   ],
   "source": [
    "12345 // 10"
   ]
  },
  {
   "cell_type": "code",
   "execution_count": null,
   "id": "7854b41f-afb2-44eb-b428-6e622214efc6",
   "metadata": {},
   "outputs": [],
   "source": [
    "##### for loop"
   ]
  },
  {
   "cell_type": "code",
   "execution_count": 5,
   "id": "ff59d71c-9793-48b4-a603-f995230fd5f7",
   "metadata": {},
   "outputs": [
    {
     "name": "stdout",
     "output_type": "stream",
     "text": [
      "12\n",
      "34\n",
      "56\n",
      "30\n"
     ]
    }
   ],
   "source": [
    "for n in 12,34,56,30:\n",
    "    print(n)"
   ]
  },
  {
   "cell_type": "code",
   "execution_count": 6,
   "id": "f20dd7b4-9fa8-40a3-95fe-b9d2e7b7908e",
   "metadata": {},
   "outputs": [
    {
     "name": "stdout",
     "output_type": "stream",
     "text": [
      "6.0 17.0 28.0 15.0 "
     ]
    }
   ],
   "source": [
    "# iterate over a sequence and print half of those value\n",
    "\n",
    "for n in 12,34,56,30:\n",
    "    print(n/2, end = ' ')"
   ]
  },
  {
   "cell_type": "code",
   "execution_count": 7,
   "id": "3bdabfca-17dd-45dd-9ae7-e40d87623f5e",
   "metadata": {},
   "outputs": [],
   "source": [
    "###"
   ]
  },
  {
   "cell_type": "code",
   "execution_count": 8,
   "id": "f2c71002-7e7b-43bd-9260-84de60e91c2c",
   "metadata": {},
   "outputs": [
    {
     "data": {
      "text/plain": [
       "[0, 1, 2, 3, 4, 5, 6, 7, 8, 9]"
      ]
     },
     "execution_count": 8,
     "metadata": {},
     "output_type": "execute_result"
    }
   ],
   "source": [
    "list(range(10))"
   ]
  },
  {
   "cell_type": "code",
   "execution_count": 9,
   "id": "564c936f-4d0a-4531-9a82-851a483b2d8c",
   "metadata": {},
   "outputs": [
    {
     "data": {
      "text/plain": [
       "[1, 2, 3, 4, 5, 6, 7, 8, 9, 10]"
      ]
     },
     "execution_count": 9,
     "metadata": {},
     "output_type": "execute_result"
    }
   ],
   "source": [
    "list (range(1 , 11))"
   ]
  },
  {
   "cell_type": "code",
   "execution_count": 10,
   "id": "170aedbe-debb-480c-848c-7a84a3b0ba7c",
   "metadata": {},
   "outputs": [
    {
     "data": {
      "text/plain": [
       "[1, 3, 5, 7, 9, 11]"
      ]
     },
     "execution_count": 10,
     "metadata": {},
     "output_type": "execute_result"
    }
   ],
   "source": [
    "list(range(1 , 12, 2))\n",
    "# start, end(exclusive) , step"
   ]
  },
  {
   "cell_type": "code",
   "execution_count": 11,
   "id": "d810f8a0-2cc5-473b-943e-38a59e4dd925",
   "metadata": {},
   "outputs": [
    {
     "name": "stdout",
     "output_type": "stream",
     "text": [
      "1 2 3 4 5 6 7 8 9 10 "
     ]
    }
   ],
   "source": [
    "for n in range (1 , 11):\n",
    "    print(n , end = ' ')"
   ]
  },
  {
   "cell_type": "code",
   "execution_count": 12,
   "id": "c6a91b8e-16ac-4f4a-b2ae-bb2f3cacceb3",
   "metadata": {},
   "outputs": [
    {
     "name": "stdout",
     "output_type": "stream",
     "text": [
      "55\n"
     ]
    }
   ],
   "source": [
    "# find the addition of 1 to 10 numbers using for loop\n",
    "\n",
    "add = 0\n",
    "for n in range (1 , 11):\n",
    "    add = add + n\n",
    "print(add)    "
   ]
  },
  {
   "cell_type": "code",
   "execution_count": 13,
   "id": "9f791341-0f37-489f-b951-62237fd1db98",
   "metadata": {},
   "outputs": [
    {
     "name": "stdout",
     "output_type": "stream",
     "text": [
      "P\n",
      "u\n",
      "n\n",
      "e\n"
     ]
    }
   ],
   "source": [
    "for i in \"Pune\" :\n",
    "    print(i)"
   ]
  },
  {
   "cell_type": "code",
   "execution_count": 16,
   "id": "c29a7f3c-f2e2-4d47-b714-e3a3358ad21f",
   "metadata": {},
   "outputs": [
    {
     "name": "stdout",
     "output_type": "stream",
     "text": [
      "Pune\n",
      "Mumbai\n"
     ]
    }
   ],
   "source": [
    "for i in \"Pune\", \"Mumbai\":\n",
    "    print(i)\n"
   ]
  },
  {
   "cell_type": "code",
   "execution_count": 21,
   "id": "58b82103-03c3-4dba-9a35-be4755158447",
   "metadata": {},
   "outputs": [
    {
     "name": "stdout",
     "output_type": "stream",
     "text": [
      "120\n"
     ]
    }
   ],
   "source": [
    "# factorial using for loop\n",
    "num = 1\n",
    "fact = 1\n",
    "for n in range(5):\n",
    "    fact = fact * num\n",
    "    num +=1\n",
    "print (fact)    "
   ]
  },
  {
   "cell_type": "code",
   "execution_count": 22,
   "id": "410b9e31-16a1-4de8-8914-97f7d1f34dd0",
   "metadata": {},
   "outputs": [
    {
     "name": "stdout",
     "output_type": "stream",
     "text": [
      "1\n",
      "2\n",
      "3\n",
      "4\n",
      "5\n",
      "6\n"
     ]
    }
   ],
   "source": [
    "for i in range(1 ,11):\n",
    "    print(i)\n",
    "    if i == 6:\n",
    "        break"
   ]
  },
  {
   "cell_type": "code",
   "execution_count": 27,
   "id": "32f534d4-d7ee-44c7-9cf7-0cb5adf1f85c",
   "metadata": {},
   "outputs": [
    {
     "name": "stdout",
     "output_type": "stream",
     "text": [
      "1\n",
      "2\n",
      "3\n",
      "4\n",
      "5\n",
      "6\n"
     ]
    }
   ],
   "source": [
    "count = 1\n",
    "while count < 11:\n",
    "    print(count)\n",
    "    if count == 6:\n",
    "        break\n",
    "    count += 1    "
   ]
  },
  {
   "cell_type": "code",
   "execution_count": 32,
   "id": "3e3587ad-38fb-4bfa-8e75-03842e04d2a0",
   "metadata": {},
   "outputs": [],
   "source": [
    "# continue "
   ]
  },
  {
   "cell_type": "code",
   "execution_count": 33,
   "id": "be4e5c96-9de1-497d-9cb0-81fa7cbd38b2",
   "metadata": {},
   "outputs": [
    {
     "name": "stdout",
     "output_type": "stream",
     "text": [
      "1\n",
      "2\n",
      "3\n",
      "4\n",
      "5\n",
      "7\n",
      "8\n",
      "9\n",
      "10\n"
     ]
    }
   ],
   "source": [
    "for i in range(1 ,11):\n",
    "    \n",
    "    if i == 6:\n",
    "        continue\n",
    "    print(i)    "
   ]
  },
  {
   "cell_type": "code",
   "execution_count": null,
   "id": "c95ebd95-0258-4502-aef0-11f09c519cbd",
   "metadata": {},
   "outputs": [],
   "source": [
    "\"\"\"\n",
    "*\n",
    "* *\n",
    "* * *\n",
    "* * * *\n",
    "* * * * *\n",
    "\"\"\""
   ]
  },
  {
   "cell_type": "code",
   "execution_count": 40,
   "id": "a4988b8d-25ee-4d22-8c55-2d6113f6254d",
   "metadata": {},
   "outputs": [
    {
     "name": "stdout",
     "output_type": "stream",
     "text": [
      " * \n",
      " *  * \n",
      " *  *  * \n",
      " *  *  *  * \n",
      " *  *  *  *  * \n"
     ]
    }
   ],
   "source": [
    "row = 5\n",
    "for i in range (1 , row + 1):\n",
    "    print(' * ' *i)"
   ]
  },
  {
   "cell_type": "code",
   "execution_count": null,
   "id": "98e12b95-64aa-4032-8f0b-8d832263016c",
   "metadata": {},
   "outputs": [],
   "source": []
  }
 ],
 "metadata": {
  "kernelspec": {
   "display_name": "Python 3 (ipykernel)",
   "language": "python",
   "name": "python3"
  },
  "language_info": {
   "codemirror_mode": {
    "name": "ipython",
    "version": 3
   },
   "file_extension": ".py",
   "mimetype": "text/x-python",
   "name": "python",
   "nbconvert_exporter": "python",
   "pygments_lexer": "ipython3",
   "version": "3.12.7"
  }
 },
 "nbformat": 4,
 "nbformat_minor": 5
}
