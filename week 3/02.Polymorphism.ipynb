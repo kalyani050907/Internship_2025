{
 "cells": [
  {
   "cell_type": "markdown",
   "id": "abc7b864-158a-4405-8d84-0c4e8071ea7a",
   "metadata": {},
   "source": [
    "### Polymorphism"
   ]
  },
  {
   "cell_type": "markdown",
   "id": "d2d3e70f-7bab-4cfd-b9ea-3d80789f60e5",
   "metadata": {},
   "source": [
    "The Simple Idea: The ability for different objects to respond to the same method call in their own , unique way. The name means \"many forms\""
   ]
  },
  {
   "cell_type": "code",
   "execution_count": 2,
   "id": "d0b2bd13-16c4-4287-aa97-6ce7d070cea3",
   "metadata": {},
   "outputs": [],
   "source": [
    "class Dog:\n",
    "    def speak(self):\n",
    "        print('Bark')\n",
    "\n",
    "class Cat:\n",
    "    def speak(self):\n",
    "        print('Meow')"
   ]
  },
  {
   "cell_type": "code",
   "execution_count": 3,
   "id": "2b01accc-e40d-4971-bdfb-402eb6337774",
   "metadata": {},
   "outputs": [],
   "source": [
    "def animal_speak(animal):\n",
    "    animal.speak()"
   ]
  },
  {
   "cell_type": "code",
   "execution_count": 4,
   "id": "7bd7b3d2-5dcc-4942-a674-537d34e74a87",
   "metadata": {},
   "outputs": [],
   "source": [
    "dog = Dog()\n",
    "cat = Cat()"
   ]
  },
  {
   "cell_type": "code",
   "execution_count": 5,
   "id": "91bf2a40-0937-4631-b0aa-6677f63f69f0",
   "metadata": {},
   "outputs": [
    {
     "name": "stdout",
     "output_type": "stream",
     "text": [
      "Bark\n"
     ]
    }
   ],
   "source": [
    "animal_speak(dog)"
   ]
  },
  {
   "cell_type": "code",
   "execution_count": 6,
   "id": "d7cd57b7-3751-463b-9c20-c29f7155c90c",
   "metadata": {},
   "outputs": [
    {
     "name": "stdout",
     "output_type": "stream",
     "text": [
      "Meow\n"
     ]
    }
   ],
   "source": [
    "animal_speak(cat)"
   ]
  },
  {
   "cell_type": "markdown",
   "id": "894c3a1a-5692-4c31-a5e0-4fe02f267be2",
   "metadata": {},
   "source": [
    "### Operator Overloading"
   ]
  },
  {
   "cell_type": "markdown",
   "id": "c2cbf766-937c-4b08-9f38-6a02c1c07861",
   "metadata": {},
   "source": [
    "Operator overloading allows you to redefine how standards like +,-,==,and > work with your custom objects.\n",
    "Esentially, you're giving special meaning to these operators for a class you've created"
   ]
  },
  {
   "cell_type": "code",
   "execution_count": 8,
   "id": "5cb6bdc0-7b4a-4240-ad02-a0c1ecc7a834",
   "metadata": {},
   "outputs": [],
   "source": [
    "class A:\n",
    "    def __init__(self , a):\n",
    "        self.a = a\n",
    "    def __add__(self , o):\n",
    "        return self.a + o.a"
   ]
  },
  {
   "cell_type": "code",
   "execution_count": 9,
   "id": "8722e444-bec0-4480-9f8d-f9edb4c94398",
   "metadata": {},
   "outputs": [],
   "source": [
    "obj1 = A(23)\n",
    "obj2 = A(77)"
   ]
  },
  {
   "cell_type": "code",
   "execution_count": 10,
   "id": "0fe90a41-385e-43a8-8e62-6b6b41419420",
   "metadata": {},
   "outputs": [
    {
     "data": {
      "text/plain": [
       "100"
      ]
     },
     "execution_count": 10,
     "metadata": {},
     "output_type": "execute_result"
    }
   ],
   "source": [
    "obj1 + obj2"
   ]
  },
  {
   "cell_type": "code",
   "execution_count": 11,
   "id": "cf7d0511-4880-4623-a9fa-89001e6c4e15",
   "metadata": {},
   "outputs": [],
   "source": [
    "obj3 = A('Pune')\n",
    "obj4 = A('Maharashtra')"
   ]
  },
  {
   "cell_type": "code",
   "execution_count": 12,
   "id": "02a5ab31-dd30-4074-a9bb-2129e3da422c",
   "metadata": {},
   "outputs": [
    {
     "data": {
      "text/plain": [
       "'PuneMaharashtra'"
      ]
     },
     "execution_count": 12,
     "metadata": {},
     "output_type": "execute_result"
    }
   ],
   "source": [
    "obj3 + obj4"
   ]
  },
  {
   "cell_type": "code",
   "execution_count": 13,
   "id": "7e71f60d-9072-4f5f-8d74-281605278a8f",
   "metadata": {},
   "outputs": [],
   "source": [
    "##### Destructor"
   ]
  },
  {
   "cell_type": "markdown",
   "id": "d7646df8-af42-4e8a-b6c9-25a49dd1e54a",
   "metadata": {},
   "source": [
    "A destructor is a special member function of a class that is automatically called when an object of that class is destroyed. Its primary purpose is to deallocate any  resources that the object might have acquired during its lifetime, such as dynamically allocated memory, file handles , or network connection"
   ]
  },
  {
   "cell_type": "code",
   "execution_count": 14,
   "id": "1d6676a9-2d7d-47a0-a269-391d99541da5",
   "metadata": {},
   "outputs": [],
   "source": [
    "class Employee:\n",
    "    def __init__(self):    # constructor\n",
    "        print('Object Created !')\n",
    "    \n",
    "    def __del__(self):     # destructor\n",
    "        print('Object Deleted !')"
   ]
  },
  {
   "cell_type": "code",
   "execution_count": 15,
   "id": "980378f9-9437-4e26-b2a4-d7533382fee5",
   "metadata": {},
   "outputs": [
    {
     "name": "stdout",
     "output_type": "stream",
     "text": [
      "Object Created !\n"
     ]
    }
   ],
   "source": [
    "emp = Employee()"
   ]
  },
  {
   "cell_type": "code",
   "execution_count": 16,
   "id": "bc3531a9-db8f-4bd9-9bca-5f4c2c0c3897",
   "metadata": {},
   "outputs": [
    {
     "name": "stdout",
     "output_type": "stream",
     "text": [
      "Object Deleted !\n"
     ]
    }
   ],
   "source": [
    "del emp"
   ]
  }
 ],
 "metadata": {
  "kernelspec": {
   "display_name": "Python 3 (ipykernel)",
   "language": "python",
   "name": "python3"
  },
  "language_info": {
   "codemirror_mode": {
    "name": "ipython",
    "version": 3
   },
   "file_extension": ".py",
   "mimetype": "text/x-python",
   "name": "python",
   "nbconvert_exporter": "python",
   "pygments_lexer": "ipython3",
   "version": "3.12.7"
  }
 },
 "nbformat": 4,
 "nbformat_minor": 5
}
